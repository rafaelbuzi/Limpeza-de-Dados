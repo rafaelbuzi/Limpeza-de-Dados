{
  "cells": [
    {
      "cell_type": "markdown",
      "metadata": {
        "id": "view-in-github",
        "colab_type": "text"
      },
      "source": [
        "<a href=\"https://colab.research.google.com/github/rafaelbuzi/Limpeza-de-Dados/blob/CAGED/Per_Capita.ipynb\" target=\"_parent\"><img src=\"https://colab.research.google.com/assets/colab-badge.svg\" alt=\"Open In Colab\"/></a>"
      ]
    },
    {
      "cell_type": "markdown",
      "metadata": {
        "id": "7ZJN8PLlxVsH"
      },
      "source": [
        "# **Tratando os dados do CAGED**\n",
        "\n",
        "O Cadastro Geral de Empregados e Desempregados (CAGED) foi criado como registro permanente de admissões e dispensa de empregados, sob o regime da Consolidação das Leis do Trabalho (CLT). É utilizado pelo Programa de Seguro-Desemprego, para conferir os dados referentes aos vínculos trabalhistas, além de outros programas sociais."
      ]
    },
    {
      "cell_type": "markdown",
      "metadata": {
        "id": "ef3xOnjT5VzN"
      },
      "source": [
        "Os dados referente ao CAGED podem ser obtidos no link abaixo:\n",
        "\n",
        "http://pdet.mte.gov.br/novo-caged"
      ]
    },
    {
      "cell_type": "markdown",
      "metadata": {
        "id": "B06k3hRKzEmM"
      },
      "source": [
        "## **0. Import das Bibliotecas e carregamento dos dados**"
      ]
    },
    {
      "cell_type": "code",
      "execution_count": 1,
      "metadata": {
        "colab": {
          "base_uri": "https://localhost:8080/"
        },
        "id": "7n29kyNPkucW",
        "outputId": "ca60518f-f774-4197-92d4-f1d9ec2488b4"
      },
      "outputs": [
        {
          "output_type": "execute_result",
          "data": {
            "text/plain": [
              "('caged.xlsx', <http.client.HTTPMessage at 0x7fa1adfec110>)"
            ]
          },
          "metadata": {},
          "execution_count": 1
        }
      ],
      "source": [
        "from urllib import request\n",
        "# Define the remote file to retrieve\n",
        "remote_url = 'http://pdet.mte.gov.br/images/Novo_CAGED/Out2022/3-tabelas.xlsx'\n",
        "# Define the local filename to save data\n",
        "local_file = 'caged.xlsx'\n",
        "# Download remote and save locally\n",
        "request.urlretrieve(remote_url, local_file)"
      ]
    },
    {
      "cell_type": "code",
      "execution_count": 2,
      "metadata": {
        "id": "0xSk92SErpMG",
        "colab": {
          "base_uri": "https://localhost:8080/"
        },
        "outputId": "7270223f-88a3-4ceb-8cfc-b2d22ad37f92"
      },
      "outputs": [
        {
          "output_type": "stream",
          "name": "stderr",
          "text": [
            "/usr/local/lib/python3.7/dist-packages/openpyxl/worksheet/header_footer.py:48: UserWarning: Cannot parse header or footer so it will be ignored\n",
            "  warn(\"\"\"Cannot parse header or footer so it will be ignored\"\"\")\n"
          ]
        }
      ],
      "source": [
        "import pandas as pd\n",
        "import numpy as np\n",
        "df = pd.read_excel('caged.xlsx', sheet_name=\"Tabela 8.1\")"
      ]
    },
    {
      "cell_type": "markdown",
      "metadata": {
        "id": "0aRSOz_6xIhs"
      },
      "source": [
        "## **1. Ajustes**\n",
        "\n",
        "Preenchendo os valores horizontalmente: *horizontal forward fill (axis = 1*)\n",
        "\n",
        "Cabe ressaltar que ainda assim, haverá valores vazios."
      ]
    },
    {
      "cell_type": "code",
      "execution_count": 3,
      "metadata": {
        "id": "OybU8kVfsNCM"
      },
      "outputs": [],
      "source": [
        "df.dropna(axis=0, how='all', inplace=True)\n",
        "df.dropna(axis=1, how='all', inplace=True)"
      ]
    },
    {
      "cell_type": "code",
      "execution_count": 4,
      "metadata": {
        "id": "VC810KlosWoc"
      },
      "outputs": [],
      "source": [
        "df = df.ffill(axis=1)"
      ]
    },
    {
      "cell_type": "code",
      "execution_count": 5,
      "metadata": {
        "id": "IOegAu2FUYtQ"
      },
      "outputs": [],
      "source": [
        "df.columns = (df.iloc[1] + '_' + df.iloc[2])"
      ]
    },
    {
      "cell_type": "code",
      "execution_count": 6,
      "metadata": {
        "id": "fOULdCBYhzEd"
      },
      "outputs": [],
      "source": [
        "df = df.iloc[3:, 1:]"
      ]
    },
    {
      "cell_type": "code",
      "execution_count": 7,
      "metadata": {
        "id": "2Il6d0-6hzEe"
      },
      "outputs": [],
      "source": [
        "df.columns.values[0] = 'Código'\n",
        "df.columns.values[1] = 'Município'"
      ]
    },
    {
      "cell_type": "code",
      "execution_count": 8,
      "metadata": {
        "id": "sqQhAVRY2PnR"
      },
      "outputs": [],
      "source": [
        "df = pd.melt(df, id_vars=['Código', 'Município'])"
      ]
    },
    {
      "cell_type": "code",
      "execution_count": 9,
      "metadata": {
        "id": "-oeYLnkZhzEe"
      },
      "outputs": [],
      "source": [
        "df = df[~(df[\"Código\"].str.contains('\\*') == True)]\n",
        "df = df[~(df[\"Código\"].str.contains('Fonte') == True)]\n",
        "df = df[~(df[\"Código\"].str.contains('Total') == True)]\n",
        "df = df[~(df[\"variable\"].str.contains('\\*') == True)]\n",
        "df = df[~(df[\"variable\"].str.contains('%') == True)]\n",
        "df = df[~(df[\"variable\"].str.contains('Acumulado') == True)]"
      ]
    },
    {
      "cell_type": "code",
      "execution_count": 10,
      "metadata": {
        "id": "bkz6qsQk3pcW"
      },
      "outputs": [],
      "source": [
        "df[['Data', 'Tipo']] = df['variable'].str.split('_', expand=True)\n",
        "df.drop('variable', axis=1, inplace=True)"
      ]
    },
    {
      "cell_type": "code",
      "execution_count": 11,
      "metadata": {
        "id": "uSO0i4IF5KWW"
      },
      "outputs": [],
      "source": [
        "df['Ano'] = df.Data.str.extract('/(.*)').copy()\n",
        "df['Mês'] = df.Data.str.split('/').str[0].copy()"
      ]
    },
    {
      "cell_type": "code",
      "execution_count": 12,
      "metadata": {
        "id": "Qe3dKDHAQD8X"
      },
      "outputs": [],
      "source": [
        "df['Data Completa'] = np.where(df.Mês=='Janeiro', '01/01/' + df['Ano'], \n",
        "                      np.where(df.Mês=='Fevereiro', '01/02/' + df['Ano'],\n",
        "                      np.where(df.Mês=='Março', '01/03/' + df['Ano'],\n",
        "                      np.where(df.Mês=='Abril', '01/04/' + df['Ano'],\n",
        "                      np.where(df.Mês=='Maio', '01/05/' + df['Ano'],\n",
        "                      np.where(df.Mês=='Junho', '01/06/' + df['Ano'],\n",
        "                      np.where(df.Mês=='Julho', '01/07/' + df['Ano'],\n",
        "                      np.where(df.Mês=='Agosto', '01/08/' + df['Ano'],\n",
        "                      np.where(df.Mês=='Setembro', '01/09/' + df['Ano'],\n",
        "                      np.where(df.Mês=='Outubro', '01/10/' + df['Ano'],\n",
        "                      np.where(df.Mês=='Novembro', '01/11/' + df['Ano'],\n",
        "                     np.where(df.Mês=='Dezembro', '01/12/' + df['Ano'],'a'))))))))))))             "
      ]
    },
    {
      "cell_type": "code",
      "execution_count": 13,
      "metadata": {
        "id": "BhdMt-ADXiCN"
      },
      "outputs": [],
      "source": [
        "df.drop(columns=['Data', 'Ano', 'Mês'], inplace=True)"
      ]
    },
    {
      "cell_type": "code",
      "execution_count": 14,
      "metadata": {
        "scrolled": true,
        "id": "lwvCgZH-hzEg"
      },
      "outputs": [],
      "source": [
        "df['Data Completa'] = pd.to_datetime(df['Data Completa'], dayfirst=True)"
      ]
    },
    {
      "cell_type": "code",
      "execution_count": 15,
      "metadata": {
        "scrolled": true,
        "id": "RtZBO5z_hzEg"
      },
      "outputs": [],
      "source": [
        "df['Valor'] = pd.to_numeric(df.value, errors='coerce')\n",
        "df = df.fillna(0)"
      ]
    },
    {
      "cell_type": "code",
      "execution_count": 16,
      "metadata": {
        "id": "woa-hjFYhzEg"
      },
      "outputs": [],
      "source": [
        "df2022 = df[df['Data Completa'].dt.year==2022]"
      ]
    },
    {
      "cell_type": "code",
      "execution_count": 17,
      "metadata": {
        "id": "ngsfVsCzhzEg"
      },
      "outputs": [],
      "source": [
        "df2022 = df2022.groupby(['Município', 'Código', 'Tipo'])['Valor'].sum().reset_index()\n",
        "df2022['Código'] = df2022['Código'].astype('str')"
      ]
    },
    {
      "cell_type": "markdown",
      "metadata": {
        "id": "SM4z6ZnqYEVt"
      },
      "source": [
        "Os dados populacionais para os cálculos per capita podem ser obtidos no link abaixo:\n",
        "\n",
        "https://sidra.ibge.gov.br/tabela/6579"
      ]
    },
    {
      "cell_type": "code",
      "execution_count": 18,
      "metadata": {
        "id": "YT-XqZlZhzEh"
      },
      "outputs": [],
      "source": [
        "pop = pd.read_excel('tabela6579.xlsx')\n",
        "pop = pop.iloc[3:]\n",
        "pop.columns = ['Código', 'Município', 'População']\n",
        "pop['Código'] = pop['Código'].str[:6]"
      ]
    },
    {
      "cell_type": "code",
      "execution_count": 19,
      "metadata": {
        "id": "teIrA69QhzEh"
      },
      "outputs": [],
      "source": [
        "df2022 = df2022.merge(pop[['Código', 'População']], \n",
        "                      left_on='Código', right_on='Código')"
      ]
    },
    {
      "cell_type": "code",
      "execution_count": 20,
      "metadata": {
        "id": "wYXQ-uMdhzEh"
      },
      "outputs": [],
      "source": [
        "df2022 = df2022[df2022['Tipo']=='Saldos']"
      ]
    },
    {
      "cell_type": "code",
      "execution_count": 21,
      "metadata": {
        "colab": {
          "base_uri": "https://localhost:8080/"
        },
        "id": "qZJYABAghzEh",
        "outputId": "47755b61-ebff-47e7-f3a1-88059f25d3c7"
      },
      "outputs": [
        {
          "output_type": "stream",
          "name": "stderr",
          "text": [
            "/usr/local/lib/python3.7/dist-packages/ipykernel_launcher.py:1: SettingWithCopyWarning: \n",
            "A value is trying to be set on a copy of a slice from a DataFrame.\n",
            "Try using .loc[row_indexer,col_indexer] = value instead\n",
            "\n",
            "See the caveats in the documentation: https://pandas.pydata.org/pandas-docs/stable/user_guide/indexing.html#returning-a-view-versus-a-copy\n",
            "  \"\"\"Entry point for launching an IPython kernel.\n"
          ]
        }
      ],
      "source": [
        "df2022['População'] = pd.to_numeric(df2022.População, errors='coerce')\n",
        "df2022 = df2022.fillna(0)"
      ]
    },
    {
      "cell_type": "code",
      "execution_count": 22,
      "metadata": {
        "id": "CgqvhX4rhzEi"
      },
      "outputs": [],
      "source": [
        "df2022['Per Capita'] = (df2022.Valor / df2022.População) * 100000"
      ]
    },
    {
      "cell_type": "code",
      "execution_count": 23,
      "metadata": {
        "colab": {
          "base_uri": "https://localhost:8080/",
          "height": 112
        },
        "id": "hCISfZM0hzEi",
        "outputId": "521205f1-36c9-4f74-b669-fb70e792ab73"
      },
      "outputs": [
        {
          "output_type": "execute_result",
          "data": {
            "text/plain": [
              "         Município  Código    Tipo  Valor  População  Per Capita\n",
              "3    Ac-Acrelandia  120001  Saldos  -11.0      15721  -69.970104\n",
              "7  Ac-Assis Brasil  120005  Saldos   34.0       7649  444.502549"
            ],
            "text/html": [
              "\n",
              "  <div id=\"df-45dc785f-ed42-4198-95fd-bb020ea659a1\">\n",
              "    <div class=\"colab-df-container\">\n",
              "      <div>\n",
              "<style scoped>\n",
              "    .dataframe tbody tr th:only-of-type {\n",
              "        vertical-align: middle;\n",
              "    }\n",
              "\n",
              "    .dataframe tbody tr th {\n",
              "        vertical-align: top;\n",
              "    }\n",
              "\n",
              "    .dataframe thead th {\n",
              "        text-align: right;\n",
              "    }\n",
              "</style>\n",
              "<table border=\"1\" class=\"dataframe\">\n",
              "  <thead>\n",
              "    <tr style=\"text-align: right;\">\n",
              "      <th></th>\n",
              "      <th>Município</th>\n",
              "      <th>Código</th>\n",
              "      <th>Tipo</th>\n",
              "      <th>Valor</th>\n",
              "      <th>População</th>\n",
              "      <th>Per Capita</th>\n",
              "    </tr>\n",
              "  </thead>\n",
              "  <tbody>\n",
              "    <tr>\n",
              "      <th>3</th>\n",
              "      <td>Ac-Acrelandia</td>\n",
              "      <td>120001</td>\n",
              "      <td>Saldos</td>\n",
              "      <td>-11.0</td>\n",
              "      <td>15721</td>\n",
              "      <td>-69.970104</td>\n",
              "    </tr>\n",
              "    <tr>\n",
              "      <th>7</th>\n",
              "      <td>Ac-Assis Brasil</td>\n",
              "      <td>120005</td>\n",
              "      <td>Saldos</td>\n",
              "      <td>34.0</td>\n",
              "      <td>7649</td>\n",
              "      <td>444.502549</td>\n",
              "    </tr>\n",
              "  </tbody>\n",
              "</table>\n",
              "</div>\n",
              "      <button class=\"colab-df-convert\" onclick=\"convertToInteractive('df-45dc785f-ed42-4198-95fd-bb020ea659a1')\"\n",
              "              title=\"Convert this dataframe to an interactive table.\"\n",
              "              style=\"display:none;\">\n",
              "        \n",
              "  <svg xmlns=\"http://www.w3.org/2000/svg\" height=\"24px\"viewBox=\"0 0 24 24\"\n",
              "       width=\"24px\">\n",
              "    <path d=\"M0 0h24v24H0V0z\" fill=\"none\"/>\n",
              "    <path d=\"M18.56 5.44l.94 2.06.94-2.06 2.06-.94-2.06-.94-.94-2.06-.94 2.06-2.06.94zm-11 1L8.5 8.5l.94-2.06 2.06-.94-2.06-.94L8.5 2.5l-.94 2.06-2.06.94zm10 10l.94 2.06.94-2.06 2.06-.94-2.06-.94-.94-2.06-.94 2.06-2.06.94z\"/><path d=\"M17.41 7.96l-1.37-1.37c-.4-.4-.92-.59-1.43-.59-.52 0-1.04.2-1.43.59L10.3 9.45l-7.72 7.72c-.78.78-.78 2.05 0 2.83L4 21.41c.39.39.9.59 1.41.59.51 0 1.02-.2 1.41-.59l7.78-7.78 2.81-2.81c.8-.78.8-2.07 0-2.86zM5.41 20L4 18.59l7.72-7.72 1.47 1.35L5.41 20z\"/>\n",
              "  </svg>\n",
              "      </button>\n",
              "      \n",
              "  <style>\n",
              "    .colab-df-container {\n",
              "      display:flex;\n",
              "      flex-wrap:wrap;\n",
              "      gap: 12px;\n",
              "    }\n",
              "\n",
              "    .colab-df-convert {\n",
              "      background-color: #E8F0FE;\n",
              "      border: none;\n",
              "      border-radius: 50%;\n",
              "      cursor: pointer;\n",
              "      display: none;\n",
              "      fill: #1967D2;\n",
              "      height: 32px;\n",
              "      padding: 0 0 0 0;\n",
              "      width: 32px;\n",
              "    }\n",
              "\n",
              "    .colab-df-convert:hover {\n",
              "      background-color: #E2EBFA;\n",
              "      box-shadow: 0px 1px 2px rgba(60, 64, 67, 0.3), 0px 1px 3px 1px rgba(60, 64, 67, 0.15);\n",
              "      fill: #174EA6;\n",
              "    }\n",
              "\n",
              "    [theme=dark] .colab-df-convert {\n",
              "      background-color: #3B4455;\n",
              "      fill: #D2E3FC;\n",
              "    }\n",
              "\n",
              "    [theme=dark] .colab-df-convert:hover {\n",
              "      background-color: #434B5C;\n",
              "      box-shadow: 0px 1px 3px 1px rgba(0, 0, 0, 0.15);\n",
              "      filter: drop-shadow(0px 1px 2px rgba(0, 0, 0, 0.3));\n",
              "      fill: #FFFFFF;\n",
              "    }\n",
              "  </style>\n",
              "\n",
              "      <script>\n",
              "        const buttonEl =\n",
              "          document.querySelector('#df-45dc785f-ed42-4198-95fd-bb020ea659a1 button.colab-df-convert');\n",
              "        buttonEl.style.display =\n",
              "          google.colab.kernel.accessAllowed ? 'block' : 'none';\n",
              "\n",
              "        async function convertToInteractive(key) {\n",
              "          const element = document.querySelector('#df-45dc785f-ed42-4198-95fd-bb020ea659a1');\n",
              "          const dataTable =\n",
              "            await google.colab.kernel.invokeFunction('convertToInteractive',\n",
              "                                                     [key], {});\n",
              "          if (!dataTable) return;\n",
              "\n",
              "          const docLinkHtml = 'Like what you see? Visit the ' +\n",
              "            '<a target=\"_blank\" href=https://colab.research.google.com/notebooks/data_table.ipynb>data table notebook</a>'\n",
              "            + ' to learn more about interactive tables.';\n",
              "          element.innerHTML = '';\n",
              "          dataTable['output_type'] = 'display_data';\n",
              "          await google.colab.output.renderOutput(dataTable, element);\n",
              "          const docLink = document.createElement('div');\n",
              "          docLink.innerHTML = docLinkHtml;\n",
              "          element.appendChild(docLink);\n",
              "        }\n",
              "      </script>\n",
              "    </div>\n",
              "  </div>\n",
              "  "
            ]
          },
          "metadata": {},
          "execution_count": 23
        }
      ],
      "source": [
        "df2022.head(2)"
      ]
    },
    {
      "cell_type": "code",
      "execution_count": 24,
      "metadata": {
        "id": "PP4QLI2mhzEi"
      },
      "outputs": [],
      "source": [
        "df2022.reset_index(drop=True, inplace=True)"
      ]
    },
    {
      "cell_type": "code",
      "execution_count": 25,
      "metadata": {
        "id": "pGaQVqdBhzEi"
      },
      "outputs": [],
      "source": [
        "df2022.to_excel('df2022.xlsx')"
      ]
    }
  ],
  "metadata": {
    "colab": {
      "provenance": [],
      "include_colab_link": true
    },
    "kernelspec": {
      "display_name": "Python 3 (ipykernel)",
      "language": "python",
      "name": "python3"
    },
    "language_info": {
      "codemirror_mode": {
        "name": "ipython",
        "version": 3
      },
      "file_extension": ".py",
      "mimetype": "text/x-python",
      "name": "python",
      "nbconvert_exporter": "python",
      "pygments_lexer": "ipython3",
      "version": "3.9.7"
    }
  },
  "nbformat": 4,
  "nbformat_minor": 0
}